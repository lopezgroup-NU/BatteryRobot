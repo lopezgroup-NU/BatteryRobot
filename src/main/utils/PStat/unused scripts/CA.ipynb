{
 "cells": [
  {
   "cell_type": "code",
   "execution_count": 1,
   "id": "42a9828f",
   "metadata": {},
   "outputs": [
    {
     "ename": "ImportError",
     "evalue": "DLL load failed: The specified module could not be found.",
     "output_type": "error",
     "traceback": [
      "\u001b[1;31m---------------------------------------------------------------------------\u001b[0m",
      "\u001b[1;31mImportError\u001b[0m                               Traceback (most recent call last)",
      "\u001b[1;32m~\\AppData\\Local\\Temp\\ipykernel_10012\\4010706608.py\u001b[0m in \u001b[0;36m<module>\u001b[1;34m\u001b[0m\n\u001b[0;32m      1\u001b[0m \u001b[1;32mimport\u001b[0m \u001b[0msys\u001b[0m\u001b[1;33m\u001b[0m\u001b[1;33m\u001b[0m\u001b[0m\n\u001b[0;32m      2\u001b[0m \u001b[0msys\u001b[0m\u001b[1;33m.\u001b[0m\u001b[0mpath\u001b[0m\u001b[1;33m.\u001b[0m\u001b[0mappend\u001b[0m\u001b[1;33m(\u001b[0m\u001b[1;34mr'C:\\Users\\ablack.GAMRY\\Documents\\Jupyter\\Supporting\\Release'\u001b[0m\u001b[1;33m)\u001b[0m\u001b[1;33m\u001b[0m\u001b[1;33m\u001b[0m\u001b[0m\n\u001b[1;32m----> 3\u001b[1;33m \u001b[1;32mfrom\u001b[0m \u001b[0mtoolkitcommon\u001b[0m \u001b[1;32mimport\u001b[0m \u001b[1;33m*\u001b[0m\u001b[1;33m\u001b[0m\u001b[1;33m\u001b[0m\u001b[0m\n\u001b[0m\u001b[0;32m      4\u001b[0m \u001b[1;32mfrom\u001b[0m \u001b[0mtoolkitcurves\u001b[0m \u001b[1;32mimport\u001b[0m \u001b[1;33m*\u001b[0m\u001b[1;33m\u001b[0m\u001b[1;33m\u001b[0m\u001b[0m\n\u001b[0;32m      5\u001b[0m \u001b[1;32mimport\u001b[0m \u001b[0mUniversalGraph\u001b[0m \u001b[1;32mas\u001b[0m \u001b[0mGraph\u001b[0m\u001b[1;33m\u001b[0m\u001b[1;33m\u001b[0m\u001b[0m\n",
      "\u001b[1;32m~\\Documents\\Jupyter\\Supporting\\Release\\toolkitcommon.py\u001b[0m in \u001b[0;36m<module>\u001b[1;34m\u001b[0m\n\u001b[0;32m      1\u001b[0m \u001b[1;32mimport\u001b[0m \u001b[0mthreading\u001b[0m\u001b[1;33m\u001b[0m\u001b[1;33m\u001b[0m\u001b[0m\n\u001b[0;32m      2\u001b[0m \u001b[1;32mimport\u001b[0m \u001b[0mnumpy\u001b[0m \u001b[1;32mas\u001b[0m \u001b[0mnp\u001b[0m\u001b[1;33m\u001b[0m\u001b[1;33m\u001b[0m\u001b[0m\n\u001b[1;32m----> 3\u001b[1;33m \u001b[1;32mfrom\u001b[0m \u001b[0mtoolkitpy\u001b[0m \u001b[1;32mimport\u001b[0m \u001b[1;33m*\u001b[0m\u001b[1;33m\u001b[0m\u001b[1;33m\u001b[0m\u001b[0m\n\u001b[0m\u001b[0;32m      4\u001b[0m \u001b[1;32mimport\u001b[0m \u001b[0mtime\u001b[0m\u001b[1;33m\u001b[0m\u001b[1;33m\u001b[0m\u001b[0m\n\u001b[0;32m      5\u001b[0m \u001b[1;32mfrom\u001b[0m \u001b[0menum\u001b[0m \u001b[1;32mimport\u001b[0m \u001b[0mEnum\u001b[0m\u001b[1;33m\u001b[0m\u001b[1;33m\u001b[0m\u001b[0m\n",
      "\u001b[1;31mImportError\u001b[0m: DLL load failed: The specified module could not be found."
     ]
    }
   ],
   "source": [
    "import sys\n",
    "sys.path.append(r'C:\\Users\\ablack.GAMRY\\Documents\\Jupyter\\Supporting\\Release')\n",
    "from toolkitcommon import *\n",
    "from toolkitcurves import *\n",
    "import UniversalGraph as Graph\n",
    "import numpy as np                       #Used to store and manipulate raw data output\n",
    "import time                              #Used for script time delay\n",
    "import pandas as pd                      #Used for presenting data in tables\n",
    "import matplotlib.pyplot as plt          #Used to plot data\n",
    "from scipy import stats                  #Used for linear regression\n",
    "import csv                               #Used to export data as csv files\n",
    "import traceback                         #Used for error catching\n",
    "import math\n",
    "from matplotlib import pyplot as plt     #Used for plotting\n",
    "%matplotlib notebook \n",
    "#matplolib notebook activates QT GUI for dynamic plots\n",
    "from mpl_point_clicker import clicker    #Used for manual baseline correction\n",
    "\n",
    "toolkitpy_init(\"RunPyBind\")\n",
    "FileName = \"Please Work.csv\"\n",
    "pstat = PyPstat(\"PSTAT\")  \n",
    "pstat.set_ctrl_mode (PSTATMODE)\n",
    "curve = CHRONOAWrapper(pstat, 10000)\n",
    "\n",
    "#Set all of your parameters\n",
    "Vinit = 0.50\n",
    "Tinit = 0.5\n",
    "SampleRate = 0.1\n",
    "\n",
    "Vstep1 = 0.01\n",
    "Tstep1 = 5\n",
    "Vstep2 = 0.02\n",
    "Tstep2 = 5\n",
    "SampleMode = 1 #Noise Reject\n",
    "\n",
    "#pSignal = pstat.SignalRupdnNew([VInit, VLimit1, VLimit2, VFinal], [ScanVal, ScanVal, ScanVal], [0.0, 0.0, 0.0], SampleTime, Cycles, SampleMode) #Create your signal\n",
    "\n",
    "#pstat.SetSignalRUpDn (pSignal) # Set your signal\n",
    "\n",
    "Signal = pstat.signal_d_step_new(Vinit, Tinit, Vstep1, Tstep1, Vstep2, Tstep2, SampleRate, PSTATMODE) \n",
    "\n",
    "\n",
    "pstat.set_signal_d_step(Signal)\n",
    "pstat.init_signal() #Init your signal\n",
    "data_frame = dict()\n",
    "\n",
    "pstat.set_cell(True)  # Turn on the cell\n",
    "fig = plt.figure()\n",
    "ax = fig.gca()\n",
    "curve.run(True);\n",
    "\n",
    "while curve.running():\n",
    "    data = curve.acq_data()\n",
    "    np.savetxt(FileName, data, delimiter = ',', header ='Time (s), Vf (V), Vu, Current (amp), Vsig (V), Ach, IERange, Overload, Temp')\n",
    "    Graph.plotCA(curve, data, fig, ax)\n",
    "    time.sleep(0.010)\n",
    "\n",
    "\n",
    "\n",
    "pstat.set_cell(False)\n",
    "\n",
    "\n",
    "\n",
    "\n"
   ]
  },
  {
   "cell_type": "code",
   "execution_count": null,
   "id": "c977f3fc",
   "metadata": {},
   "outputs": [
    {
     "name": "stdout",
     "output_type": "stream",
     "text": [
      "True\n"
     ]
    }
   ],
   "source": [
    "type(curve).__name__\n",
    "print(type(curve) == CHRONOAWrapper)"
   ]
  },
  {
   "cell_type": "code",
   "execution_count": null,
   "id": "25ba9d6b",
   "metadata": {},
   "outputs": [],
   "source": []
  }
 ],
 "metadata": {
  "kernelspec": {
   "display_name": "Python 3 (ipykernel)",
   "language": "python",
   "name": "python3"
  },
  "language_info": {
   "codemirror_mode": {
    "name": "ipython",
    "version": 3
   },
   "file_extension": ".py",
   "mimetype": "text/x-python",
   "name": "python",
   "nbconvert_exporter": "python",
   "pygments_lexer": "ipython3",
   "version": "3.7.9"
  }
 },
 "nbformat": 4,
 "nbformat_minor": 5
}
