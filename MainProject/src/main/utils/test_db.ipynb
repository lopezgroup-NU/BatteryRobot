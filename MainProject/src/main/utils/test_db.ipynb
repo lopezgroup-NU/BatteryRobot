{
 "cells": [
  {
   "cell_type": "code",
   "execution_count": null,
   "metadata": {},
   "outputs": [],
   "source": [
    "from DBUtils import MongoQuery\n",
    "from pathlib import Path\n",
    "\n",
    "# initialize connection to test_db, later use \"atom_db\" when ready\n",
    "# see MongoQuery code for available functions\n",
    "querier = MongoQuery(db_name=\"test_db\")\n",
    "\n",
    "# load data into collections\n",
    "cv_path = Path(r\"c:\\Users\\llf1362\\Desktop\\SingleSaltData\\cv\")\n",
    "geis_path = Path(r\"c:\\Users\\llf1362\\Desktop\\SingleSaltData\\eis\")\n",
    "\n",
    "querier.add_cv_data(cv_path, ignore_first=True)\n",
    "querier.add_geis_data(geis_path, ignore_first=True)\n",
    "\n",
    "# dump out data if you want\n",
    "# data = querier.get_data(collection_name=\"cv_data\")\n",
    "# print(data)\n"
   ]
  },
  {
   "cell_type": "code",
   "execution_count": null,
   "metadata": {},
   "outputs": [],
   "source": [
    "# drop all collection information\n",
    "# querier.drop_data(collection_name=\"cv_data\")\n",
    "# querier.drop_data(collection_name=\"geis_data\")\n",
    "\n",
    "# update ignore_first and recompute averages \n",
    "querier.update_ignore(\"geis_data\", False)\n",
    "data = querier.get_data(collection_name=\"geis_data\")\n",
    "print(data)"
   ]
  }
 ],
 "metadata": {
  "kernelspec": {
   "display_name": "Python 3",
   "language": "python",
   "name": "python3"
  },
  "language_info": {
   "name": "python",
   "version": "3.7.9"
  }
 },
 "nbformat": 4,
 "nbformat_minor": 2
}
