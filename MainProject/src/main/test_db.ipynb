{
 "cells": [
  {
   "cell_type": "code",
   "execution_count": 1,
   "metadata": {},
   "outputs": [],
   "source": [
    "from DBUtils import MongoQuery\n",
    "from pathlib import Path\n",
    "\n",
    "# initialize connection to test_db, later use \"atom_db\" when ready\n",
    "# see MongoQuery code for available functions\n",
    "querier = MongoQuery(db_name=\"test_db\")\n",
    "\n",
    "# load data into collections\n",
    "cv_path = Path(r\"c:\\Users\\llf1362\\Desktop\\DB\\cv\")\n",
    "geis_path = Path(r\"c:\\Users\\llf1362\\Desktop\\DB\\eis\")\n",
    "querier.drop_data(\"data\")\n",
    "querier.add_cv_data(cv_path, ignore_first=True)\n",
    "querier.add_geis_data(geis_path, ignore_first=True)\n",
    "querier.set_saturated_out(r'c:\\Users\\llf1362\\Desktop\\DB\\sat_out.txt')\n"
   ]
  },
  {
   "cell_type": "code",
   "execution_count": null,
   "metadata": {},
   "outputs": [],
   "source": [
    "import json\n",
    "import pandas as pd\n",
    "\n",
    "# out to json \n",
    "data = querier.get_data(collection_name=\"data\", dump_to_file=True)\n",
    "\n",
    "# Save the DataFrame as a CSV file using previous json\n",
    "df = pd.read_json('data.json')\n",
    "df.to_csv('data.csv', index=False)\n"
   ]
  }
 ],
 "metadata": {
  "kernelspec": {
   "display_name": "Python 3",
   "language": "python",
   "name": "python3"
  },
  "language_info": {
   "codemirror_mode": {
    "name": "ipython",
    "version": 3
   },
   "file_extension": ".py",
   "mimetype": "text/x-python",
   "name": "python",
   "nbconvert_exporter": "python",
   "pygments_lexer": "ipython3",
   "version": "3.7.9"
  }
 },
 "nbformat": 4,
 "nbformat_minor": 2
}
