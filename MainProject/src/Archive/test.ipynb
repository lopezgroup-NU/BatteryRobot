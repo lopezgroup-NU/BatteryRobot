{
 "cells": [
  {
   "cell_type": "code",
   "execution_count": null,
   "metadata": {},
   "outputs": [
    {
     "name": "stdout",
     "output_type": "stream",
     "text": [
      "Pandas(Index=1, Target_vial='A1', Sources='A2 A3', Volume_mL='2 3', Solids='Solid_1', Weights_g='2', Heat='A1', Time_h=1)\n",
      "Pandas(Index=2, Target_vial='A2', Sources='A2 A1', Volume_mL='1 3', Solids=nan, Weights_g=nan, Heat='A2', Time_h=1)\n",
      "Pandas(Index=3, Target_vial='A3', Sources='A2', Volume_mL='4', Solids='Solid_2 Solid_3', Weights_g='1 3', Heat='A3', Time_h=1)\n",
      "Pandas(Index=4, Target_vial='A4', Sources='A4', Volume_mL='5', Solids=nan, Weights_g=nan, Heat='B1', Time_h=1)\n"
     ]
    }
   ],
   "source": [
    "import pandas as pd\n",
    "import ast\n",
    "\n",
    "df = pd.read_csv(r\"\\Users\\llf1362\\Desktop\\mixing.csv\", index_col=\"Experiment\")  \n",
    "\n",
    "protocol_dict = {\"Solid_1\": \"protocol_1\", \"Solid_2\": \"protocol_2\",\"Solid_3\": \"protocol_3\"}\n",
    "def dispense_powder_and_scale(protocol, Target_vial, Weights_g, collect = True, ret = True):\n",
    "    print( Target_vial, protocol, Weights_g, collect, ret)\n",
    "def dispense_liquid_vol( dest_id, source, target_vol, collect = False, ret = True):\n",
    "    print( dest_id, source, target_vol, collect , ret )\n",
    "\n",
    "for i in df.itertuples():\n",
    "    if pd.notna(i.Solids): \n",
    "        solidList = i.Solids.split()\n",
    "        for j in solidList:\n",
    "            protocol = protocol_dict[j]\n",
    "            collect = False\n",
    "            ret = False\n",
    "            if solidList[0] == j:\n",
    "                collect = True\n",
    "            if pd.isna(i.Sources):\n",
    "                ret = True\n",
    "            dispense_powder_and_scale(protocol, i.Target_vial, i.Weights_g, collect, ret)\n",
    "    #liquids\n",
    "    liquidList = i.Sources.split()\n",
    "    for j in liquidList:\n",
    "        collect = False\n",
    "        ret = False\n",
    "        if liquidList[0] == j and pd.isna(i.Solids):\n",
    "            collect = True\n",
    "        if liquidList[-1] == j:\n",
    "            ret = True\n",
    "        dispense_liquid_vol(i.Target_vial, j, i.Volume_mL, collect,ret )\n",
    "\n",
    "\n",
    "\n"
   ]
  },
  {
   "cell_type": "code",
   "execution_count": null,
   "metadata": {},
   "outputs": [],
   "source": []
  }
 ],
 "metadata": {
  "kernelspec": {
   "display_name": "Python 3",
   "language": "python",
   "name": "python3"
  },
  "language_info": {
   "codemirror_mode": {
    "name": "ipython",
    "version": 3
   },
   "file_extension": ".py",
   "mimetype": "text/x-python",
   "name": "python",
   "nbconvert_exporter": "python",
   "pygments_lexer": "ipython3",
   "version": "3.7.9"
  }
 },
 "nbformat": 4,
 "nbformat_minor": 2
}
